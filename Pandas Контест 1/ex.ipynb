{
 "cells": [
  {
   "cell_type": "code",
   "execution_count": 1,
   "metadata": {},
   "outputs": [],
   "source": [
    "import numpy as np\n",
    "import pandas as pd"
   ]
  },
  {
   "cell_type": "markdown",
   "metadata": {},
   "source": [
    "Задача 1"
   ]
  },
  {
   "cell_type": "code",
   "execution_count": 25,
   "metadata": {},
   "outputs": [
    {
     "name": "stdout",
     "output_type": "stream",
     "text": [
      "5\n",
      "3\n"
     ]
    }
   ],
   "source": [
    "df = pd.read_csv('input.csv', sep=',', header=None)\n",
    "print(df.shape[0])\n",
    "print(df.shape[1])"
   ]
  },
  {
   "cell_type": "markdown",
   "metadata": {},
   "source": [
    "Задача 2.\n",
    "Вам необходимо найти имя, которое встречается чаще всего в данном наборе данных и вывести имя и сколько раз оно встречается в одной строке (разделитель - пробел).\n",
    "\n",
    "Если таких имён несколько, вывести каждое имя и соответствующее ему количество на отдельных строках в алфавитном порядке."
   ]
  },
  {
   "cell_type": "code",
   "execution_count": null,
   "metadata": {},
   "outputs": [
    {
     "name": "stdout",
     "output_type": "stream",
     "text": [
      "Иван 3\n",
      "Николай 3\n"
     ]
    }
   ],
   "source": [
    "df = pd.read_csv('input.csv', sep=',')\n",
    "tmp = df['Имя'].value_counts()\n",
    "#print(tmp[tmp == max(tmp)].sort_index().to_frame().reset_index().to_string(header=False, index=False))\n",
    "tmp = tmp[tmp == max(tmp)].sort_index()\n",
    "for i in range(tmp.shape[0]):\n",
    "    print(str(tmp.index[i]) + ' ' + str(tmp.values[i])) "
   ]
  },
  {
   "cell_type": "markdown",
   "metadata": {},
   "source": [
    "Задача 3."
   ]
  },
  {
   "cell_type": "code",
   "execution_count": 112,
   "metadata": {},
   "outputs": [
    {
     "name": "stdout",
     "output_type": "stream",
     "text": [
      "Алексей Андрей Виктор Владислав Вячеслав Кирилл Никита Олег\n"
     ]
    }
   ],
   "source": [
    "df = pd.read_csv('input.csv', sep=',')\n",
    "tmp = df['Имя'].unique()\n",
    "tmp = np.sort(tmp)\n",
    "print(' '.join(tmp))"
   ]
  },
  {
   "cell_type": "markdown",
   "metadata": {},
   "source": [
    "Задача 4"
   ]
  },
  {
   "cell_type": "code",
   "execution_count": 119,
   "metadata": {},
   "outputs": [
    {
     "name": "stdout",
     "output_type": "stream",
     "text": [
      "Название_колонки,Количество_NaN\n",
      "Имя,4\n",
      "Возраст,2\n",
      "Балл,0\n"
     ]
    }
   ],
   "source": [
    "df = pd.read_csv('input.csv', sep=',')\n",
    "tmp = df.isnull().sum()\n",
    "print('Название_колонки,Количество_NaN')\n",
    "for i in range(tmp.shape[0]):\n",
    "    print(str(tmp.index[i]) + ',' + str(tmp.values[i]))"
   ]
  },
  {
   "cell_type": "markdown",
   "metadata": {},
   "source": [
    "Задача 5"
   ]
  },
  {
   "cell_type": "code",
   "execution_count": 125,
   "metadata": {},
   "outputs": [
    {
     "name": "stdout",
     "output_type": "stream",
     "text": [
      "Максим Диана Артем\n"
     ]
    }
   ],
   "source": [
    "df = pd.read_csv('input.csv', sep=',')\n",
    "tmp = df[df['Возраст'] > 35]['Имя']\n",
    "print(' '.join(tmp))"
   ]
  },
  {
   "cell_type": "markdown",
   "metadata": {},
   "source": [
    "Columns\n",
    "ID - Идентификатор настольной игры\n",
    "Name - Имя\n",
    "Year Published - Год публикации\n",
    "Rating Average - Средний рейтинг, полученный игрой (целевая переменная)\n",
    "Complexity Average - Среднее значение сложности игры\n",
    "Domains - Домены настольных игр, которым принадлежит игра (тематика)\n",
    "Найдите ответы на вопросы:\n",
    "\n",
    "Какая тематика представлена наиболее часто (только название игры)?\n",
    "Сколько игр относятся к данной тематике (одно число типа int)?\n",
    "Если таких тематик несколько, выведете ответ для каждой в новой строке."
   ]
  },
  {
   "cell_type": "code",
   "execution_count": 130,
   "metadata": {},
   "outputs": [
    {
     "name": "stdout",
     "output_type": "stream",
     "text": [
      "Family Games 2\n",
      "Strategy Games 2\n"
     ]
    }
   ],
   "source": [
    "df = pd.read_csv('input.csv', sep=',')\n",
    "tmp = df['Domains'].value_counts()\n",
    "tmp = tmp[tmp == max(tmp)]\n",
    "for i in range(tmp.shape[0]):\n",
    "    print(str(tmp.index[i]) + ' ' + str(tmp.values[i])) \n"
   ]
  }
 ],
 "metadata": {
  "kernelspec": {
   "display_name": "Python 3",
   "language": "python",
   "name": "python3"
  },
  "language_info": {
   "codemirror_mode": {
    "name": "ipython",
    "version": 3
   },
   "file_extension": ".py",
   "mimetype": "text/x-python",
   "name": "python",
   "nbconvert_exporter": "python",
   "pygments_lexer": "ipython3",
   "version": "3.12.2"
  }
 },
 "nbformat": 4,
 "nbformat_minor": 2
}
